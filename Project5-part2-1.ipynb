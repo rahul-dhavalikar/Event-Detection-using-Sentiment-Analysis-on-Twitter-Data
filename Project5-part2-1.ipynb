{
 "cells": [
  {
   "cell_type": "markdown",
   "metadata": {},
   "source": [
    "### PART 2: Fan Base Prediction\n",
    "#### subpart: min_df=2 with NMF dimensionality reduction technique(50 components)"
   ]
  },
  {
   "cell_type": "code",
   "execution_count": 1,
   "metadata": {},
   "outputs": [
    {
     "name": "stderr",
     "output_type": "stream",
     "text": [
      "/Users/rahul/virtualenvs/titleanalysis/lib/python2.7/site-packages/statsmodels/compat/pandas.py:56: FutureWarning: The pandas.core.datetools module is deprecated and will be removed in a future version. Please use the pandas.tseries module instead.\n",
      "  from pandas.core import datetools\n"
     ]
    }
   ],
   "source": [
    "import os\n",
    "import json\n",
    "import datetime\n",
    "import time\n",
    "import pytz\n",
    "from collections import OrderedDict\n",
    "import matplotlib.pyplot as plt\n",
    "import pandas as pd\n",
    "import statsmodels.api as sm\n",
    "import numpy as np\n",
    "from sklearn import metrics\n",
    "from math import sqrt\n",
    "import re\n",
    "import emoji\n",
    "import sklearn.preprocessing\n",
    "from sklearn.feature_selection import f_regression\n",
    "from sklearn.feature_selection import mutual_info_regression\n",
    "from sklearn.feature_selection import SelectKBest\n",
    "import os\n",
    "import json\n",
    "import datetime\n",
    "import time\n",
    "import pytz\n",
    "from collections import OrderedDict\n",
    "import matplotlib.pyplot as plt\n",
    "\n",
    "import codecs\n",
    "import re"
   ]
  },
  {
   "cell_type": "code",
   "execution_count": 2,
   "metadata": {
    "scrolled": false
   },
   "outputs": [
    {
     "name": "stdout",
     "output_type": "stream",
     "text": [
      "tweet_data_3/tweets_#superbowl.txt\n",
      "('\\n\\n', 'superbowl')\n"
     ]
    }
   ],
   "source": [
    "hashtagData = dict()\n",
    "\n",
    "\n",
    "pst_tz = pytz.timezone('US/Pacific')\n",
    "oneHr = datetime.timedelta(minutes=60)\n",
    "nflNumTweets = None\n",
    "superbowlNumTweets = None\n",
    "\n",
    "in_dir = 'tweet_data_3'\n",
    "\n",
    "for root, dirs, files in os.walk(in_dir):\n",
    "    path = root.split(os.sep)\n",
    "    dateObj = None\n",
    "    for f in files:\n",
    "\n",
    "        fullPath = \"/\".join(path) + \"/\" + f\n",
    "        print(fullPath)\n",
    "        hashtag = f[8: -4]\n",
    "        print(\"\\n\\n\", hashtag)\n",
    "        \n",
    "        fh = open(fullPath, 'r')\n",
    "            \n",
    "        dfRowObjs = []\n",
    "        for line in fh.readlines():\n",
    "            jsonObject = json.loads(line)\n",
    "\n",
    "            title = jsonObject['title']\n",
    "            location = jsonObject['tweet']['user']['location']\n",
    "            \n",
    "            dfRowObj = {\"title\": title, \"location\": location}\n",
    "            \n",
    "            dfRowObjs.append(dfRowObj)\n",
    "\n",
    "        df = pd.DataFrame(dfRowObjs)\n",
    "        \n",
    "        hashtagData[hashtag] = df"
   ]
  },
  {
   "cell_type": "code",
   "execution_count": 3,
   "metadata": {
    "scrolled": false
   },
   "outputs": [
    {
     "name": "stdout",
     "output_type": "stream",
     "text": [
      "1348767\n"
     ]
    }
   ],
   "source": [
    "print(len(hashtagData[\"superbowl\"]))\n"
   ]
  },
  {
   "cell_type": "code",
   "execution_count": 4,
   "metadata": {
    "collapsed": true
   },
   "outputs": [],
   "source": [
    "wa_regex1 = re.compile('seattle|washington', re.IGNORECASE)\n",
    "wa_regex2 = re.compile('WA')\n",
    "wa_regex3 = re.compile('dc|d.c.', re.IGNORECASE)\n",
    "ma_regex1 = re.compile('boston|massachusetts', re.IGNORECASE)\n",
    "ma_regex2 = re.compile('MA')\n",
    "\n",
    "def getLabel(location):    \n",
    "    if not wa_regex3.search(location) and (wa_regex1.search(location) or wa_regex2.search(location)):\n",
    "        return 0\n",
    "    if ma_regex1.search(location) or ma_regex2.search(location):\n",
    "        return 1\n",
    "    return -1\n",
    "        "
   ]
  },
  {
   "cell_type": "code",
   "execution_count": 29,
   "metadata": {
    "collapsed": true
   },
   "outputs": [],
   "source": [
    "from sklearn.linear_model import LinearRegression\n",
    "from sklearn.model_selection import KFold\n",
    "from math import sqrt\n",
    "from sklearn.metrics import mean_squared_error\n",
    "import sys\n",
    "from sklearn.preprocessing import PolynomialFeatures\n",
    "from sklearn.neural_network import MLPRegressor\n",
    "from sklearn.ensemble import RandomForestClassifier\n",
    "from sklearn.neighbors import KNeighborsClassifier\n",
    "from sklearn.tree import DecisionTreeClassifier\n",
    "from sklearn import svm\n",
    "\n",
    "from sklearn.metrics import f1_score\n",
    "from sklearn.metrics import precision_score\n",
    "from sklearn.metrics import accuracy_score\n",
    "from sklearn.metrics import recall_score\n",
    "from sklearn.metrics import confusion_matrix\n",
    "import itertools\n",
    "import numpy as np\n",
    "import matplotlib.pyplot as plt\n",
    "from sklearn.metrics import roc_curve, auc\n",
    "\n",
    "def plot_confusion_matrix(cm, classes,\n",
    "                          normalize=False,\n",
    "                          title='Confusion matrix',\n",
    "                          cmap=plt.cm.Blues):\n",
    "    \"\"\"\n",
    "    This function prints and plots the confusion matrix.\n",
    "    Normalization can be applied by setting `normalize=True`.\n",
    "    \"\"\"\n",
    "    if normalize:\n",
    "        cm = cm.astype('float') / cm.sum(axis=1)[:, np.newaxis]\n",
    "        print(\"Normalized confusion matrix\")\n",
    "    else:\n",
    "        print('Confusion matrix, without normalization')\n",
    "\n",
    "    print(cm)\n",
    "\n",
    "    plt.imshow(cm, interpolation='nearest', cmap=cmap)\n",
    "    plt.title(title)\n",
    "    plt.colorbar()\n",
    "    tick_marks = np.arange(len(classes))\n",
    "    plt.xticks(tick_marks, classes, rotation=45)\n",
    "    plt.yticks(tick_marks, classes)\n",
    "\n",
    "    fmt = '.2f' if normalize else 'd'\n",
    "    thresh = cm.max() / 2.\n",
    "    for i, j in itertools.product(range(cm.shape[0]), range(cm.shape[1])):\n",
    "        plt.text(j, i, format(cm[i, j], fmt),\n",
    "                 horizontalalignment=\"center\",\n",
    "                 color=\"white\" if cm[i, j] > thresh else \"black\")\n",
    "\n",
    "    plt.tight_layout()\n",
    "    plt.ylabel('True label')\n",
    "    plt.xlabel('Predicted label')\n",
    "\n",
    "\n",
    "def getClassifyModel(modelName, arg=None):\n",
    "    model = None\n",
    "    if modelName == 'SVM':\n",
    "        model = svm.SVC(kernel='linear', C=arg[0], probability=True)\n",
    "    \n",
    "    if modelName == 'KNeighborsClassifier':\n",
    "        model = KNeighborsClassifier(n_neighbors=arg[0])\n",
    "  \n",
    "    if modelName == 'RandomForestClassifier':\n",
    "        model = RandomForestClassifier(n_estimators=arg[0], max_depth=arg[1], max_features=arg[2], oob_score=True, random_state=0)\n",
    "    \n",
    "    if modelName == 'DecisionTreeClassifier':\n",
    "        model = DecisionTreeClassifier(max_features=arg[0])\n",
    " \n",
    "    return model\n",
    "\n",
    "\n",
    "def classifyKFold(modelName, args, X, y):\n",
    "      \n",
    "    kf = KFold(n_splits=5, shuffle=True)\n",
    "    \n",
    "    ftestAccuracy = list()\n",
    "    \n",
    "    for train_index, test_index in kf.split(X):\n",
    "            \n",
    "        X_train, X_test = X[train_index], X[test_index]\n",
    "        y_train, y_test = y[train_index], y[test_index]\n",
    "\n",
    "        model = getClassifyModel(modelName, arg=args)\n",
    "\n",
    "        model.fit(X_train, y_train)\n",
    "        \n",
    "        predictionTest = model.predict(X_test)\n",
    "        \n",
    "        acc = accuracy_score(y_test, predictionTest)\n",
    "\n",
    "        ftestAccuracy.append(acc)\n",
    "\n",
    "    testAccuracy = sum(ftestAccuracy) / len(ftestAccuracy)\n",
    "    return testAccuracy\n",
    "\n",
    "def classify(modelName, args, X, y, verbose=True, plot_roc=True):\n",
    "    kf = KFold(n_splits=10, shuffle=True)\n",
    "    \n",
    "    for train_index, test_index in kf.split(X):\n",
    "        X_train, X_test = X[train_index], X[test_index]\n",
    "        y_train, y_test = y[train_index], y[test_index]\n",
    "\n",
    "        model = getClassifyModel(modelName, arg=args)\n",
    "\n",
    "        model.fit(X_train, y_train)\n",
    "        \n",
    "        predictionTest = model.predict(X_test)\n",
    "        probaPredictionTest = model.predict_proba(X_test)\n",
    "        \n",
    "        accuracy = accuracy_score(y_test, predictionTest)\n",
    "        precision = precision_score(y_test, predictionTest)\n",
    "        recall = recall_score(y_test, predictionTest)\n",
    "        f1 = f1_score(y_test, predictionTest)        \n",
    "        break\n",
    "\n",
    "    if verbose:\n",
    "        print(\"Accuracy: \" + str(accuracy))\n",
    "        print(\"Precision: \" + str(precision))\n",
    "        print(\"Recall: \" + str(recall))\n",
    "        print(\"F1 score: \" + str(f1))\n",
    "    \n",
    "        cnf_matrix = confusion_matrix(y_test, predictionTest)\n",
    "        class_names = ['Washington','Massachusetts']\n",
    "        plt.figure()\n",
    "        plot_confusion_matrix(cnf_matrix, classes=class_names, normalize=False,\n",
    "                          title='Confusion matrix')\n",
    "\n",
    "        plt.show()\n",
    "        \n",
    "    if plot_roc is True:\n",
    "        fpr, tpr, thresholds = roc_curve(y_test, probaPredictionTest[:,1])\n",
    "        roc_auc = auc(fpr, tpr)\n",
    "\n",
    "        plt.title('Receiver Operating Characteristic')\n",
    "        plt.plot(fpr, tpr, 'b', label = 'AUC = %0.2f' % roc_auc)\n",
    "        plt.legend(loc = 'lower right')\n",
    "        plt.plot([0, 1], [0, 1],'r--')\n",
    "        plt.xlim([0, 1])\n",
    "        plt.ylim([0, 1])\n",
    "        plt.ylabel('True Positive Rate')\n",
    "        plt.xlabel('False Positive Rate')\n",
    "        plt.show()\n",
    "\n",
    "\n",
    "    return None"
   ]
  },
  {
   "cell_type": "code",
   "execution_count": 6,
   "metadata": {
    "collapsed": true
   },
   "outputs": [],
   "source": [
    "import re\n",
    "from nltk.tokenize import TreebankWordTokenizer\n",
    "from nltk.stem import wordnet\n",
    "from nltk.stem.snowball import SnowballStemmer\n",
    "\n",
    "toker = TreebankWordTokenizer()\n",
    "lemmer = wordnet.WordNetLemmatizer()\n",
    "stemmer = SnowballStemmer(\"english\", ignore_stopwords=True)\n",
    "\n",
    "def cleanDocuments(documents):\n",
    "    cleanData = []\n",
    "\n",
    "    for cleanDoc in documents:\n",
    "        cleanDoc = re.sub(r\"[\\w\\.-]+@[\\w\\.-]+\", \"\", cleanDoc)\n",
    "        cleanDoc = re.sub(r\"-\", \" \", cleanDoc)\n",
    "        cleanDoc = re.sub(r\"[^A-z\\s]\", \"\", cleanDoc)\n",
    "        cleanDoc = re.sub(r\"_+\", \"\", cleanDoc)\n",
    "        cleanDoc = re.sub('\\s+',' ', cleanDoc)\n",
    "\n",
    "        cleanDoc = toker.tokenize(cleanDoc)\n",
    "        cleanDoc = \" \".join([lemmer.lemmatize(z) for z in cleanDoc])\n",
    "        cleanDoc = stemmer.stem(cleanDoc)\n",
    "        cleanData.append(cleanDoc)\n",
    "\n",
    "    return cleanData"
   ]
  },
  {
   "cell_type": "code",
   "execution_count": 7,
   "metadata": {
    "scrolled": false
   },
   "outputs": [
    {
     "name": "stdout",
     "output_type": "stream",
     "text": [
      "('\\nHashtag: ', 'superbowl')\n",
      "('nFeatures: ', 45574)\n",
      "('nLabel: ', 45574)\n",
      "('Wash: ', 20984)\n",
      "('Mass: ', 24590)\n",
      "('\\nTotal Data: ', 45574)\n",
      "('Total Labels: ', 45574)\n",
      "('Total Wash(0): ', 20984)\n",
      "('Total Mass(1): ', 24590)\n"
     ]
    }
   ],
   "source": [
    "for hashtag in hashtagData:\n",
    "    \n",
    "    print(\"\\nHashtag: \", hashtag)\n",
    "    df = hashtagData[hashtag]\n",
    "    \n",
    "    labels = list()\n",
    "    data = list()\n",
    "    \n",
    "    for index, tweet in df.iterrows():\n",
    "        label = getLabel(tweet['location'])\n",
    "        if label == -1:\n",
    "            continue\n",
    "        else:\n",
    "            labels.append(label)\n",
    "\n",
    "        # data extraction\n",
    "        tweetText = tweet['title']\n",
    "\n",
    "        data.append(tweetText)\n",
    "    \n",
    "    print(\"nFeatures: \", len(data))\n",
    "    print(\"nLabel: \", len(labels))\n",
    "    temp_y = np.array(labels)\n",
    "    print(\"Wash: \", len(np.where(temp_y == 0)[0]))\n",
    "    print(\"Mass: \", len(np.where(temp_y == 1)[0]))\n",
    "        \n",
    "y = np.array(labels)\n",
    "\n",
    "print(\"\\nTotal Data: \", len(data))\n",
    "print(\"Total Labels: \", len(labels))\n",
    "print(\"Total Wash(0): \", len(np.where(y == 0)[0]))\n",
    "print(\"Total Mass(1): \", len(np.where(y == 1)[0]))"
   ]
  },
  {
   "cell_type": "code",
   "execution_count": 8,
   "metadata": {
    "collapsed": true
   },
   "outputs": [],
   "source": [
    "def extractFeatures(data, minDf=2, is_svd=1, nComp=50):\n",
    "    cleanData = cleanDocuments(data)\n",
    "\n",
    "    from sklearn.feature_extraction.text import CountVectorizer\n",
    "\n",
    "    vectorizer = CountVectorizer(min_df=minDf, stop_words = 'english')\n",
    "    X_counts = vectorizer.fit_transform(cleanData)\n",
    "\n",
    "    print(X_counts.shape)\n",
    "\n",
    "    from sklearn.feature_extraction.text import TfidfTransformer\n",
    "    tfidf_transformer = TfidfTransformer()\n",
    "\n",
    "    X_tfidf = tfidf_transformer.fit_transform(X_counts)\n",
    "    print(X_tfidf.shape)\n",
    "\n",
    "    from sklearn.decomposition import TruncatedSVD\n",
    "    from sklearn.decomposition import NMF\n",
    "\n",
    "    if is_svd:\n",
    "        svd = TruncatedSVD(n_components=nComp)\n",
    "        X_reduced = svd.fit_transform(X_tfidf)\n",
    "    else:\n",
    "        nmf_model = NMF(n_components=nComp, init='random', random_state=0)\n",
    "        X_reduced = nmf_model.fit_transform(X_tfidf)\n",
    "\n",
    "    print(X_reduced.shape)\n",
    "\n",
    "    X = np.array(X_reduced)\n",
    "    return X"
   ]
  },
  {
   "cell_type": "markdown",
   "metadata": {},
   "source": [
    "min_df=2, NMF with 50 Components"
   ]
  },
  {
   "cell_type": "code",
   "execution_count": 39,
   "metadata": {},
   "outputs": [
    {
     "name": "stdout",
     "output_type": "stream",
     "text": [
      "(45574, 13312)\n",
      "(45574, 13312)\n",
      "(45574, 50)\n"
     ]
    }
   ],
   "source": [
    "X = extractFeatures(data, 2, 0, 50)"
   ]
  },
  {
   "cell_type": "code",
   "execution_count": 40,
   "metadata": {},
   "outputs": [
    {
     "name": "stdout",
     "output_type": "stream",
     "text": [
      "\n",
      "\n",
      "Model 1: DecisionTreeClassifier Finding best args\n",
      "[1]\n",
      "[3]\n",
      "[5]\n",
      "[7]\n",
      "[9]\n",
      "[11]\n",
      "[13]\n",
      "[15]\n",
      "[17]\n",
      "[19]\n",
      "[21]\n",
      "[23]\n",
      "[25]\n",
      "[27]\n",
      "[29]\n",
      "[31]\n",
      "[33]\n",
      "[35]\n",
      "[37]\n",
      "[39]\n",
      "[41]\n",
      "[43]\n",
      "[45]\n",
      "[47]\n",
      "[49]\n",
      "('Best Accuracy: ', 0.7407512978471873)\n",
      "('Best Args: ', [39])\n"
     ]
    }
   ],
   "source": [
    "print(\"\\n\\nModel 1: DecisionTreeClassifier Finding best args\")\n",
    "max_features = list(range(1,51,2))\n",
    "\n",
    "bestAccuracy=0\n",
    "bestArgs = [0]\n",
    "\n",
    "for c in max_features:\n",
    "    args = [c]\n",
    "    print(args)\n",
    "    currentAccuracy = classifyKFold('DecisionTreeClassifier', args, X, y)\n",
    "    if currentAccuracy > bestAccuracy:\n",
    "        bestAccuracy = currentAccuracy\n",
    "        bestArgs = args\n",
    "        \n",
    "print(\"Best Accuracy: \", bestAccuracy)\n",
    "print(\"Best Args: \", bestArgs)\n"
   ]
  },
  {
   "cell_type": "code",
   "execution_count": 41,
   "metadata": {},
   "outputs": [
    {
     "name": "stdout",
     "output_type": "stream",
     "text": [
      "\n",
      "\n",
      "Model 1: DecisionTreeClassifier\n",
      "Accuracy: 0.743089074155\n",
      "Precision: 0.761108846311\n",
      "Recall: 0.761419249592\n",
      "F1 score: 0.76126401631\n",
      "Confusion matrix, without normalization\n",
      "[[1520  586]\n",
      " [ 585 1867]]\n"
     ]
    },
    {
     "data": {
      "image/png": "[encoded data removed]",
      "text/plain": [
       "<matplotlib.figure.Figure at 0x13ebdf2d0>"
      ]
     },
     "metadata": {},
     "output_type": "display_data"
    },
    {
     "data": {
      "image/png": "[encoded data removed]",
      "text/plain": [
       "<matplotlib.figure.Figure at 0x13e51ea50>"
      ]
     },
     "metadata": {},
     "output_type": "display_data"
    }
   ],
   "source": [
    "print(\"\\n\\nModel 1: DecisionTreeClassifier\")\n",
    "args = bestArgs\n",
    "_ = classify('DecisionTreeClassifier', args, X, y)\n"
   ]
  },
  {
   "cell_type": "code",
   "execution_count": 42,
   "metadata": {},
   "outputs": [
    {
     "name": "stdout",
     "output_type": "stream",
     "text": [
      "\n",
      "\n",
      "Model 2: Random Forest Finding best args\n",
      "('Best Accuracy: ', 0.66013500716408513)\n",
      "('Best Args: ', [1, None, 1])\n",
      "('Best Accuracy: ', 0.72014746351179693)\n",
      "('Best Args: ', [1, None, 5])\n",
      "('Best Accuracy: ', 0.72221007002061177)\n",
      "('Best Args: ', [1, None, 9])\n",
      "('Best Accuracy: ', 0.73142585337357213)\n",
      "('Best Args: ', [1, None, 13])\n",
      "('Best Accuracy: ', 0.73234730050072161)\n",
      "('Best Args: ', [1, None, 33])\n",
      "('Best Accuracy: ', 0.73315925743893007)\n",
      "('Best Args: ', [1, None, 45])\n",
      "('Best Accuracy: ', 0.73399304548673472)\n",
      "('Best Args: ', [1, None, 49])\n",
      "('Best Accuracy: ', 0.7378768788494996)\n",
      "('Best Args: ', [4, None, 5])\n",
      "('Best Accuracy: ', 0.73827187555786034)\n",
      "('Best Args: ', [4, None, 9])\n",
      "('Best Accuracy: ', 0.74290159714019199)\n",
      "('Best Args: ', [4, None, 13])\n",
      "('Best Accuracy: ', 0.74417425838206397)\n",
      "('Best Args: ', [4, None, 17])\n",
      "('Best Accuracy: ', 0.74487653734719517)\n",
      "('Best Args: ', [4, None, 29])\n",
      "('Best Accuracy: ', 0.76837670605198172)\n",
      "('Best Args: ', [7, None, 5])\n",
      "('Best Accuracy: ', 0.76962744951465623)\n",
      "('Best Args: ', [7, None, 13])\n",
      "('Best Accuracy: ', 0.7698248636067242)\n",
      "('Best Args: ', [7, None, 17])\n",
      "('Best Accuracy: ', 0.77280911706426947)\n",
      "('Best Args: ', [7, None, 33])\n",
      "('Best Accuracy: ', 0.77568366125138133)\n",
      "('Best Args: ', [13, None, 5])\n",
      "('Best Accuracy: ', 0.77921623957211206)\n",
      "('Best Args: ', [13, None, 9])\n",
      "('Best Accuracy: ', 0.78213446283083865)\n",
      "('Best Args: ', [19, None, 5])\n",
      "('Best Accuracy: ', 0.78421895582149481)\n",
      "('Best Args: ', [19, None, 9])\n",
      "('Best Accuracy: ', 0.78421895582149481)\n",
      "('Best Args: ', [19, None, 9])\n"
     ]
    }
   ],
   "source": [
    "print(\"\\n\\nModel 2: Random Forest Finding best args\")\n",
    "n_estimators = list(range(1,21,3))\n",
    "max_features = list(range(1,51,4))\n",
    "\n",
    "bestAccuracy=0\n",
    "bestArgs = [0, None, 0]\n",
    "\n",
    "for ne in n_estimators:\n",
    "    for mf in max_features:\n",
    "        args = [ne, None, mf]\n",
    "        currentAccuracy = classifyKFold('RandomForestClassifier', args, X, y)\n",
    "        if currentAccuracy > bestAccuracy:\n",
    "            bestAccuracy = currentAccuracy\n",
    "            bestArgs = args\n",
    "            print(\"Best Accuracy: \", bestAccuracy)\n",
    "            print(\"Best Args: \", bestArgs)\n",
    "\n",
    "print(\"Best Accuracy: \", bestAccuracy)\n",
    "print(\"Best Args: \", bestArgs)"
   ]
  },
  {
   "cell_type": "code",
   "execution_count": 43,
   "metadata": {},
   "outputs": [
    {
     "name": "stdout",
     "output_type": "stream",
     "text": [
      "\n",
      "\n",
      "Model 2\n",
      "Accuracy: 0.791355857832\n",
      "Precision: 0.786337209302\n",
      "Recall: 0.856351404828\n",
      "F1 score: 0.819852244743\n",
      "Confusion matrix, without normalization\n",
      "[[1443  588]\n",
      " [ 363 2164]]\n"
     ]
    },
    {
     "data": {
      "image/png": "[encoded data removed]",
      "text/plain": [
       "<matplotlib.figure.Figure at 0x13ee49810>"
      ]
     },
     "metadata": {},
     "output_type": "display_data"
    },
    {
     "data": {
      "image/png": "[encoded data removed]",
      "text/plain": [
       "<matplotlib.figure.Figure at 0x13e676150>"
      ]
     },
     "metadata": {},
     "output_type": "display_data"
    }
   ],
   "source": [
    "print(\"\\n\\nModel 2\")\n",
    "args = bestArgs\n",
    "_ = classify('RandomForestClassifier', args, X, y)\n"
   ]
  },
  {
   "cell_type": "code",
   "execution_count": 44,
   "metadata": {},
   "outputs": [
    {
     "name": "stdout",
     "output_type": "stream",
     "text": [
      "\n",
      "\n",
      "Model 3: KNN Finding best args\n",
      "[1]\n",
      "[3]\n",
      "[5]\n",
      "[7]\n",
      "[9]\n",
      "[11]\n",
      "[13]\n",
      "[15]\n",
      "[17]\n",
      "[19]\n",
      "[21]\n",
      "[23]\n",
      "[25]\n",
      "[27]\n",
      "[29]\n",
      "[31]\n",
      "[33]\n",
      "[35]\n",
      "[37]\n",
      "[39]\n",
      "[41]\n",
      "[43]\n",
      "[45]\n",
      "[47]\n",
      "[49]\n",
      "('Best Accuracy: ', 0.75251239405393577)\n",
      "('Best Args: ', [21])\n"
     ]
    }
   ],
   "source": [
    "print(\"\\n\\nModel 3: KNN Finding best args\")\n",
    "nnrange = list(range(1,50,2))\n",
    "\n",
    "bestAccuracy=0\n",
    "bestArgs = [0]\n",
    "\n",
    "for nn in nnrange:\n",
    "    args = [nn]\n",
    "    print(args)\n",
    "    currentAccuracy = classifyKFold('KNeighborsClassifier', args, X, y)\n",
    "    if currentAccuracy > bestAccuracy:\n",
    "        bestAccuracy = currentAccuracy\n",
    "        bestArgs[0] = args[0]\n",
    "        \n",
    "print(\"Best Accuracy: \", bestAccuracy)\n",
    "print(\"Best Args: \", bestArgs)\n"
   ]
  },
  {
   "cell_type": "code",
   "execution_count": 45,
   "metadata": {},
   "outputs": [
    {
     "name": "stdout",
     "output_type": "stream",
     "text": [
      "\n",
      "\n",
      "Model 3: KNN\n",
      "Accuracy: 0.748573935937\n",
      "Precision: 0.724832214765\n",
      "Recall: 0.868865647627\n",
      "F1 score: 0.790340285401\n",
      "Confusion matrix, without normalization\n",
      "[[1252  820]\n",
      " [ 326 2160]]\n"
     ]
    },
    {
     "data": {
      "image/png": "[encoded data removed]",
      "text/plain": [
       "<matplotlib.figure.Figure at 0x13fa20110>"
      ]
     },
     "metadata": {},
     "output_type": "display_data"
    },
    {
     "data": {
      "image/png": "[encoded data removed]",
      "text/plain": [
       "<matplotlib.figure.Figure at 0x144bfe5d0>"
      ]
     },
     "metadata": {},
     "output_type": "display_data"
    }
   ],
   "source": [
    "print(\"\\n\\nModel 3: KNN\")\n",
    "args = bestArgs\n",
    "_ = classify('KNeighborsClassifier', args, X, y)"
   ]
  },
  {
   "cell_type": "markdown",
   "metadata": {},
   "source": [
    "#### END OF NOTEBOOK"
   ]
  }
 ],
 "metadata": {
  "kernelspec": {
   "display_name": "Python 2",
   "language": "python",
   "name": "python2"
  },
  "language_info": {
   "codemirror_mode": {
    "name": "ipython",
    "version": 2
   },
   "file_extension": ".py",
   "mimetype": "text/x-python",
   "name": "python",
   "nbconvert_exporter": "python",
   "pygments_lexer": "ipython2",
   "version": "2.7.13"
  }
 },
 "nbformat": 4,
 "nbformat_minor": 2
}
